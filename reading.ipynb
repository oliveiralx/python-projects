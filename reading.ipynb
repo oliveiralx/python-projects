{
 "cells": [
  {
   "cell_type": "code",
   "execution_count": null,
   "metadata": {},
   "outputs": [],
   "source": [
    "import numpy as np\n",
    "import pandas as pd"
   ]
  },
  {
   "cell_type": "code",
   "execution_count": null,
   "metadata": {},
   "outputs": [],
   "source": [
    "t1 = pd.read_csv('readingdata\\TESTE3.txt', delimiter=\"\\t\")\n",
    "t1"
   ]
  },
  {
   "cell_type": "code",
   "execution_count": null,
   "metadata": {},
   "outputs": [],
   "source": [
    "import serial.tools.list_ports\n",
    "\n",
    "ports = serial.tools.list_ports.comports()\n",
    "serialInst = serial.Serial()\n",
    "\n",
    "portList = []\n",
    "\n",
    "for onePort in ports:\n",
    "    portList.append(str(onePort))\n",
    "    print(str(onePort))\n",
    "\n",
    "val = input(\"Select Port: COM\")\n",
    "\n",
    "for x in range(0, len(portList)):\n",
    "    if portList[x].startswith(\"COM\" + str(val)):\n",
    "        portVar = \"COM\" + str(val)\n",
    "        print('\\nSelected Port:')\n",
    "        print(portList[x])\n",
    "        print(f'Colecting data from {portVar}...\\n')\n",
    "    else:\n",
    "        print('Access Denied')\n",
    "\n",
    "\"\"\"\n",
    " -> A sugestion is find a way to better make sure if the user choose \n",
    "    a wrong COM the program will return and ask again for the user \n",
    "    about the right COM. The changes can be in the lines 14-19.\n",
    "\n",
    " -> Maybe that'll be possible to solve the problem using a while condition.\n",
    "    If while the user don't choose a available COM, the program\n",
    "    will return to the begin and ask again for the user.\n",
    "\"\"\"\n",
    "\n",
    "serialInst.baudrate = 115200\n",
    "serialInst.port = portVar\n",
    "serialInst.open()\n",
    "\n",
    "while True:\n",
    "    if serialInst.in_waiting:\n",
    "        packet = serialInst.readline()\n",
    "        print(packet.decode('utf').rstrip('\\n'))\n",
    "\n",
    "\"\"\"\n",
    " -> Now in the lines 31-34, we can change about how to stop the\n",
    "    program. Or we can do something to read a number of datas that\n",
    "    need to be colected and then, finish the program.\n",
    "\n",
    " -> I prefer specify a comand to stop, but for read a number we\n",
    "    can integrate the code with a GUI to make the code mor friendlier.\n",
    "\"\"\""
   ]
  }
 ],
 "metadata": {
  "kernelspec": {
   "display_name": "Python 3.10.4 ('Gits')",
   "language": "python",
   "name": "python3"
  },
  "language_info": {
   "codemirror_mode": {
    "name": "ipython",
    "version": 3
   },
   "file_extension": ".py",
   "mimetype": "text/x-python",
   "name": "python",
   "nbconvert_exporter": "python",
   "pygments_lexer": "ipython3",
   "version": "3.10.4"
  },
  "orig_nbformat": 4,
  "vscode": {
   "interpreter": {
    "hash": "f9c5ed2f1ebbb2edbbac52d69db56ea12822109cf6661d39c27b47bd1c8722db"
   }
  }
 },
 "nbformat": 4,
 "nbformat_minor": 2
}

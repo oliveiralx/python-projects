{
 "cells": [
  {
   "cell_type": "code",
   "execution_count": 1,
   "metadata": {},
   "outputs": [],
   "source": [
    "import numpy as np\n",
    "import pandas as pd"
   ]
  },
  {
   "cell_type": "code",
   "execution_count": 18,
   "metadata": {},
   "outputs": [
    {
     "data": {
      "text/html": [
       "<div>\n",
       "<style scoped>\n",
       "    .dataframe tbody tr th:only-of-type {\n",
       "        vertical-align: middle;\n",
       "    }\n",
       "\n",
       "    .dataframe tbody tr th {\n",
       "        vertical-align: top;\n",
       "    }\n",
       "\n",
       "    .dataframe thead th {\n",
       "        text-align: right;\n",
       "    }\n",
       "</style>\n",
       "<table border=\"1\" class=\"dataframe\">\n",
       "  <thead>\n",
       "    <tr style=\"text-align: right;\">\n",
       "      <th></th>\n",
       "      <th>Ângulo</th>\n",
       "      <th>Velocidade</th>\n",
       "      <th>Aceleração</th>\n",
       "      <th>Tempo</th>\n",
       "    </tr>\n",
       "  </thead>\n",
       "  <tbody>\n",
       "    <tr>\n",
       "      <th>0</th>\n",
       "      <td>89</td>\n",
       "      <td>19</td>\n",
       "      <td>9</td>\n",
       "      <td>34977</td>\n",
       "    </tr>\n",
       "    <tr>\n",
       "      <th>1</th>\n",
       "      <td>118</td>\n",
       "      <td>14</td>\n",
       "      <td>1</td>\n",
       "      <td>35027</td>\n",
       "    </tr>\n",
       "    <tr>\n",
       "      <th>2</th>\n",
       "      <td>80</td>\n",
       "      <td>28</td>\n",
       "      <td>6</td>\n",
       "      <td>35077</td>\n",
       "    </tr>\n",
       "    <tr>\n",
       "      <th>3</th>\n",
       "      <td>104</td>\n",
       "      <td>32</td>\n",
       "      <td>7</td>\n",
       "      <td>35127</td>\n",
       "    </tr>\n",
       "    <tr>\n",
       "      <th>4</th>\n",
       "      <td>171</td>\n",
       "      <td>28</td>\n",
       "      <td>7</td>\n",
       "      <td>35177</td>\n",
       "    </tr>\n",
       "    <tr>\n",
       "      <th>...</th>\n",
       "      <td>...</td>\n",
       "      <td>...</td>\n",
       "      <td>...</td>\n",
       "      <td>...</td>\n",
       "    </tr>\n",
       "    <tr>\n",
       "      <th>4285</th>\n",
       "      <td>15</td>\n",
       "      <td>29</td>\n",
       "      <td>5</td>\n",
       "      <td>51227</td>\n",
       "    </tr>\n",
       "    <tr>\n",
       "      <th>4286</th>\n",
       "      <td>126</td>\n",
       "      <td>45</td>\n",
       "      <td>7</td>\n",
       "      <td>51277</td>\n",
       "    </tr>\n",
       "    <tr>\n",
       "      <th>4287</th>\n",
       "      <td>41</td>\n",
       "      <td>10</td>\n",
       "      <td>5</td>\n",
       "      <td>51327</td>\n",
       "    </tr>\n",
       "    <tr>\n",
       "      <th>4288</th>\n",
       "      <td>72</td>\n",
       "      <td>38</td>\n",
       "      <td>7</td>\n",
       "      <td>51377</td>\n",
       "    </tr>\n",
       "    <tr>\n",
       "      <th>4289</th>\n",
       "      <td>50</td>\n",
       "      <td>13</td>\n",
       "      <td>8</td>\n",
       "      <td>51427</td>\n",
       "    </tr>\n",
       "  </tbody>\n",
       "</table>\n",
       "<p>4290 rows × 4 columns</p>\n",
       "</div>"
      ],
      "text/plain": [
       "      Ângulo  Velocidade  Aceleração  Tempo\n",
       "0         89          19           9  34977\n",
       "1        118          14           1  35027\n",
       "2         80          28           6  35077\n",
       "3        104          32           7  35127\n",
       "4        171          28           7  35177\n",
       "...      ...         ...         ...    ...\n",
       "4285      15          29           5  51227\n",
       "4286     126          45           7  51277\n",
       "4287      41          10           5  51327\n",
       "4288      72          38           7  51377\n",
       "4289      50          13           8  51427\n",
       "\n",
       "[4290 rows x 4 columns]"
      ]
     },
     "execution_count": 18,
     "metadata": {},
     "output_type": "execute_result"
    }
   ],
   "source": [
    "t1 = pd.read_csv('readingdata\\TESTE3.txt', delimiter=\"\\t\")\n",
    "t1"
   ]
  },
  {
   "cell_type": "code",
   "execution_count": 19,
   "metadata": {},
   "outputs": [
    {
     "name": "stdout",
     "output_type": "stream",
     "text": [
      "COM1 - Porta de comunicação (COM1)\n",
      "COM3 - Silicon Labs CP210x USB to UART Bridge (COM3)\n"
     ]
    }
   ],
   "source": [
    "import serial.tools.list_ports\n",
    "\n",
    "ports = serial.tools.list_ports.comports()\n",
    "serialInst = serial.Serial()\n",
    "\n",
    "portList = []\n",
    "\n",
    "for onePort in ports:\n",
    "    portList.append(str(onePort))\n",
    "    print(str(onePort))"
   ]
  }
 ],
 "metadata": {
  "kernelspec": {
   "display_name": "Python 3.10.4 ('Gits')",
   "language": "python",
   "name": "python3"
  },
  "language_info": {
   "codemirror_mode": {
    "name": "ipython",
    "version": 3
   },
   "file_extension": ".py",
   "mimetype": "text/x-python",
   "name": "python",
   "nbconvert_exporter": "python",
   "pygments_lexer": "ipython3",
   "version": "3.10.4"
  },
  "orig_nbformat": 4,
  "vscode": {
   "interpreter": {
    "hash": "f9c5ed2f1ebbb2edbbac52d69db56ea12822109cf6661d39c27b47bd1c8722db"
   }
  }
 },
 "nbformat": 4,
 "nbformat_minor": 2
}

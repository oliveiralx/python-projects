{
 "cells": [
  {
   "cell_type": "code",
   "execution_count": null,
   "metadata": {},
   "outputs": [
    {
     "ename": "",
     "evalue": "",
     "output_type": "error",
     "traceback": [
      "\u001b[1;31mA execução de células com \"Python 3.8.12 ('Curso em Video')\" requer o pacote ipykernel.\n",
      "\u001b[1;31mExecute o seguinte comando para instalar \"ipykernel\" no ambiente do Python. \n",
      "\u001b[1;31mComando: \"conda install -n Curso em Video ipykernel --update-deps --force-reinstall\""
     ]
    }
   ],
   "source": [
    "import pandas as np\n",
    "import readingdata as rd"
   ]
  },
  {
   "cell_type": "code",
   "execution_count": null,
   "metadata": {},
   "outputs": [],
   "source": [
    "t1 = rd.leiaTexto('/readingdata/TESTE1.txt', delimiter='|')\n",
    "t2 = rd.leiaTexto('/readingdata/TESTE2.txt', delimiter='\\t')"
   ]
  }
 ],
 "metadata": {
  "kernelspec": {
   "display_name": "Python 3.8.12 ('Curso em Video')",
   "language": "python",
   "name": "python3"
  },
  "language_info": {
   "codemirror_mode": {
    "name": "ipython",
    "version": 3
   },
   "file_extension": ".py",
   "mimetype": "text/x-python",
   "name": "python",
   "nbconvert_exporter": "python",
   "pygments_lexer": "ipython3",
   "version": "3.8.12"
  },
  "orig_nbformat": 4,
  "vscode": {
   "interpreter": {
    "hash": "c9368bb06eaffb8af7c270ac87e0f1c13451d75045e73dddaa31fc11aa7042bb"
   }
  }
 },
 "nbformat": 4,
 "nbformat_minor": 2
}

{
 "cells": [
  {
   "cell_type": "code",
   "execution_count": null,
   "metadata": {},
   "outputs": [],
   "source": [
    "import numpy as np\n",
    "import pandas as pd"
   ]
  },
  {
   "cell_type": "code",
   "execution_count": null,
   "metadata": {},
   "outputs": [],
   "source": [
    "t1 = pd.read_csv('readingdata\\TESTE3.txt', delimiter=\"\\t\")\n",
    "t1"
   ]
  },
  {
   "cell_type": "code",
   "execution_count": 39,
   "metadata": {},
   "outputs": [
    {
     "name": "stdout",
     "output_type": "stream",
     "text": [
      "COM1 - Porta de comunicação (COM1)\n",
      "COM3 - Silicon Labs CP210x USB to UART Bridge (COM3)\n",
      "Acess Denied\n"
     ]
    },
    {
     "ename": "SerialException",
     "evalue": "could not open port 'COM3': PermissionError(13, 'Acesso negado.', None, 5)",
     "output_type": "error",
     "traceback": [
      "\u001b[1;31m---------------------------------------------------------------------------\u001b[0m",
      "\u001b[1;31mSerialException\u001b[0m                           Traceback (most recent call last)",
      "\u001b[1;32md:\\Usuario [ Não Apagar ]\\Nova pasta (2)\\Gits\\python-projects\\reading.ipynb Célula: 3\u001b[0m in \u001b[0;36m<cell line: 30>\u001b[1;34m()\u001b[0m\n\u001b[0;32m     <a href='vscode-notebook-cell:/d%3A/Usuario%20%5B%20N%C3%A3o%20Apagar%20%5D/Nova%20pasta%20%282%29/Gits/python-projects/reading.ipynb#W2sZmlsZQ%3D%3D?line=27'>28</a>\u001b[0m serialInst\u001b[39m.\u001b[39mbaudrate \u001b[39m=\u001b[39m \u001b[39m115200\u001b[39m\n\u001b[0;32m     <a href='vscode-notebook-cell:/d%3A/Usuario%20%5B%20N%C3%A3o%20Apagar%20%5D/Nova%20pasta%20%282%29/Gits/python-projects/reading.ipynb#W2sZmlsZQ%3D%3D?line=28'>29</a>\u001b[0m serialInst\u001b[39m.\u001b[39mport \u001b[39m=\u001b[39m portVar\n\u001b[1;32m---> <a href='vscode-notebook-cell:/d%3A/Usuario%20%5B%20N%C3%A3o%20Apagar%20%5D/Nova%20pasta%20%282%29/Gits/python-projects/reading.ipynb#W2sZmlsZQ%3D%3D?line=29'>30</a>\u001b[0m serialInst\u001b[39m.\u001b[39;49mopen()\n\u001b[0;32m     <a href='vscode-notebook-cell:/d%3A/Usuario%20%5B%20N%C3%A3o%20Apagar%20%5D/Nova%20pasta%20%282%29/Gits/python-projects/reading.ipynb#W2sZmlsZQ%3D%3D?line=31'>32</a>\u001b[0m \u001b[39mwhile\u001b[39;00m \u001b[39mTrue\u001b[39;00m:\n\u001b[0;32m     <a href='vscode-notebook-cell:/d%3A/Usuario%20%5B%20N%C3%A3o%20Apagar%20%5D/Nova%20pasta%20%282%29/Gits/python-projects/reading.ipynb#W2sZmlsZQ%3D%3D?line=32'>33</a>\u001b[0m     \u001b[39mif\u001b[39;00m serialInst\u001b[39m.\u001b[39min_waiting:\n",
      "File \u001b[1;32mc:\\Users\\Matheus\\.conda\\envs\\Gits\\lib\\site-packages\\serial\\serialwin32.py:64\u001b[0m, in \u001b[0;36mSerial.open\u001b[1;34m(self)\u001b[0m\n\u001b[0;32m     62\u001b[0m \u001b[39mif\u001b[39;00m \u001b[39mself\u001b[39m\u001b[39m.\u001b[39m_port_handle \u001b[39m==\u001b[39m win32\u001b[39m.\u001b[39mINVALID_HANDLE_VALUE:\n\u001b[0;32m     63\u001b[0m     \u001b[39mself\u001b[39m\u001b[39m.\u001b[39m_port_handle \u001b[39m=\u001b[39m \u001b[39mNone\u001b[39;00m    \u001b[39m# 'cause __del__ is called anyway\u001b[39;00m\n\u001b[1;32m---> 64\u001b[0m     \u001b[39mraise\u001b[39;00m SerialException(\u001b[39m\"\u001b[39m\u001b[39mcould not open port \u001b[39m\u001b[39m{!r}\u001b[39;00m\u001b[39m: \u001b[39m\u001b[39m{!r}\u001b[39;00m\u001b[39m\"\u001b[39m\u001b[39m.\u001b[39mformat(\u001b[39mself\u001b[39m\u001b[39m.\u001b[39mportstr, ctypes\u001b[39m.\u001b[39mWinError()))\n\u001b[0;32m     66\u001b[0m \u001b[39mtry\u001b[39;00m:\n\u001b[0;32m     67\u001b[0m     \u001b[39mself\u001b[39m\u001b[39m.\u001b[39m_overlapped_read \u001b[39m=\u001b[39m win32\u001b[39m.\u001b[39mOVERLAPPED()\n",
      "\u001b[1;31mSerialException\u001b[0m: could not open port 'COM3': PermissionError(13, 'Acesso negado.', None, 5)"
     ]
    }
   ],
   "source": [
    "import serial.tools.list_ports\n",
    "\n",
    "ports = serial.tools.list_ports.comports()\n",
    "serialInst = serial.Serial()\n",
    "\n",
    "portList = []\n",
    "\n",
    "for onePort in ports:\n",
    "    portList.append(str(onePort))\n",
    "    print(str(onePort))\n",
    "\n",
    "val = input(\"Select Port: COM\")\n",
    "\n",
    "if portList[x].startswith(\"COM\" + str(val)):\n",
    "    portVar = \"COM\" + str(val)\n",
    "    print('\\nSelected Port:')\n",
    "    print(portList[x])\n",
    "    print(f'Colecting data from {portVar}...\\n')\n",
    "else:\n",
    "    print('Access Denied')\n",
    "\n",
    "\"\"\"\n",
    " -> A sugestion is find a way to better make sure if the user choose \n",
    "    a wrong COM the program will return and ask again for the user \n",
    "    about the right COM. The changes can be in the lines 14-19.\n",
    "\n",
    " -> Maybe that'll be possible to solve the problem using a while condition.\n",
    "    If while the user don't choose a available COM, the program\n",
    "    will return to the begin and ask again for the user.\n",
    "\"\"\"\n",
    "\n",
    "serialInst.baudrate = 115200\n",
    "serialInst.port = portVar\n",
    "serialInst.open()\n",
    "\n",
    "while True:\n",
    "    if serialInst.in_waiting:\n",
    "        packet = serialInst.readline()\n",
    "        print(packet.decode('utf').rstrip('\\n'))\n",
    "\n",
    "\"\"\"\n",
    " -> Now in the lines 31-34, we can change about how to stop the\n",
    "    program. Or we can do something to read a number of datas that\n",
    "    need to be colected and then, finish the program.\n",
    "\n",
    " -> I prefer specify a comand to stop, but for read a number we\n",
    "    can integrate the code with a GUI to make the code mor friendlier.\n",
    "\"\"\""
   ]
  }
 ],
 "metadata": {
  "kernelspec": {
   "display_name": "Python 3.10.4 ('Gits')",
   "language": "python",
   "name": "python3"
  },
  "language_info": {
   "codemirror_mode": {
    "name": "ipython",
    "version": 3
   },
   "file_extension": ".py",
   "mimetype": "text/x-python",
   "name": "python",
   "nbconvert_exporter": "python",
   "pygments_lexer": "ipython3",
   "version": "3.10.4"
  },
  "orig_nbformat": 4,
  "vscode": {
   "interpreter": {
    "hash": "f9c5ed2f1ebbb2edbbac52d69db56ea12822109cf6661d39c27b47bd1c8722db"
   }
  }
 },
 "nbformat": 4,
 "nbformat_minor": 2
}

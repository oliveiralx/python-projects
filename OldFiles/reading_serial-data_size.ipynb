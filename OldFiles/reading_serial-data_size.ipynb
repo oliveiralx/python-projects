{
 "cells": [
  {
   "cell_type": "code",
   "execution_count": null,
   "metadata": {},
   "outputs": [],
   "source": [
    "import serial.tools.list_ports\n",
    "from time import time\n",
    "\n",
    "ports = serial.tools.list_ports.comports()\n",
    "serialInst = serial.Serial()\n",
    "\n",
    "portList = []\n",
    "\n",
    "for onePort in ports:\n",
    "    portList.append(str(onePort))\n",
    "    print(str(onePort))\n",
    "\n",
    "val = input(\"Select Port: COM\")\n",
    "\n",
    "for x in range(0, len(portList)):\n",
    "    if portList[x].startswith(\"COM\" + str(val)):\n",
    "        portVar = \"COM\" + str(val)\n",
    "        print('\\nSelected Port:')\n",
    "        print(portList[x])\n",
    "        print(f'Colecting data from {portVar}...\\n')\n",
    "    else:\n",
    "        print('Access Denied')\n",
    "\n",
    "serialInst.baudrate = 9600\n",
    "serialInst.port = portVar\n",
    "serialInst.open()\n",
    "\n",
    "\n",
    "tempo_esperado = 10\n",
    "\n",
    "\n",
    "\n",
    "list_1 = []; list_2 = []; list_3 = []; eixo = ['eixo x','eixo y', 'eixo z']\n",
    "\n",
    "# 1135133 = 201 dados coletados, faça uma regra de 3 para saber quual o numero que deve ser colocado em stop\n",
    "stop = 1135133; start = 0\n",
    "\n",
    "\n",
    "while (start <= stop):\n",
    "    if serialInst.in_waiting:\n",
    "        packet = serialInst.readline()\n",
    "        print(packet.decode('utf').rstrip('\\n'))\n",
    "        list_1.append(packet)\n",
    "    start += 1\n",
    "\n",
    "\n"
   ]
  }
 ],
 "metadata": {
  "kernelspec": {
   "display_name": "Python 3.10.4 ('Gits')",
   "language": "python",
   "name": "python3"
  },
  "language_info": {
   "name": "python",
   "version": "3.10.4"
  },
  "orig_nbformat": 4,
  "vscode": {
   "interpreter": {
    "hash": "f9c5ed2f1ebbb2edbbac52d69db56ea12822109cf6661d39c27b47bd1c8722db"
   }
  }
 },
 "nbformat": 4,
 "nbformat_minor": 2
}
